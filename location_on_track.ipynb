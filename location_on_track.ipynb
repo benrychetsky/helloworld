{
 "cells": [
  {
   "cell_type": "code",
   "execution_count": 134,
   "metadata": {},
   "outputs": [],
   "source": [
    "import pandas as pd\n",
    "from PIL import Image\n",
    "import matplotlib.pyplot as plt\n",
    "import plotly.express as px"
   ]
  },
  {
   "cell_type": "code",
   "execution_count": 135,
   "metadata": {},
   "outputs": [
    {
     "name": "stdout",
     "output_type": "stream",
     "text": [
      "Index(['TrackName', 'TrackType', 'SessionFlag', 'CarName', 'RacePosition',\n",
      "       'Lap Nbr', 'PaceMode', 'OnPitRoad', 'LpDistance', 'LapDistPrct %',\n",
      "       'SessionTime', 'IsOnTrack', 'PreviousLap', 'LapBestLap', 'LapCompleted',\n",
      "       'CurrentLapTime', 'LapBestLapTime', 'LapDeltaToBestLap',\n",
      "       'LapDeltaToBestLap_DD', 'Throttle %', 'Brake %', 'Clutch %',\n",
      "       'Speed (MPH)', 'currentGear', 'GearDisplay', 'RPM',\n",
      "       'SteeringWheelAngle (deg)', 'FuelLevelPct', 'LFtempCL (F)',\n",
      "       'LFtempCR (F)', 'LFtempCM (F)', 'LRtempCL (F)', 'LRtempCR (F)',\n",
      "       'LRtempCM (F)', 'RFtempCL (F)', 'RFtempCR (F)', 'RFtempCM (F)',\n",
      "       'RRtempCL (F)', 'RRtempCR (F)', 'RRtempCM (F)', 'LFwearL %',\n",
      "       'LFwearM %', 'LFwearR %', 'LRwearL %', 'LRwearM %', 'LRwearR %',\n",
      "       'RFwearL %', 'RFwearM %', 'RFwearR %', 'RRwearL %', 'RRwearM %',\n",
      "       'RRwearR %', 'TrackTemp (F)', 'OilTemp (F)', 'WaterTemp (F)',\n",
      "       'AirDensity (lbs/ft^3)', 'AirPressure (bar)', 'AirTemp (F)',\n",
      "       'WindDir (deg)', 'WindVel (MPH)', 'LatAccel (m/s)', 'LongAccel (m/s)',\n",
      "       'VertAccel (m/s)', 'Roll (deg)', 'RollRate (deg/s)', 'Yaw (deg)',\n",
      "       'YawRate (deg/s)', 'Pitch (deg)', 'PitchRate (deg/s)', 'gForces'],\n",
      "      dtype='object')\n"
     ]
    },
    {
     "name": "stderr",
     "output_type": "stream",
     "text": [
      "C:\\Users\\Marissa Petty\\AppData\\Local\\Temp\\ipykernel_272\\394848839.py:1: DtypeWarning:\n",
      "\n",
      "Columns (24) have mixed types. Specify dtype option on import or set low_memory=False.\n",
      "\n"
     ]
    }
   ],
   "source": [
    "df = pd.read_csv(\"telemetry_data_4_12_2024_2.csv\")\n",
    "print(df.columns)"
   ]
  },
  {
   "cell_type": "code",
   "execution_count": 136,
   "metadata": {},
   "outputs": [],
   "source": [
    "track_location_columns=['TrackName','Lap Nbr','LpDistance','SessionTime','CurrentLapTime','Speed (MPH)','PreviousLap','LapCompleted','SteeringWheelAngle (deg)','Speed (MPH)','currentGear']"
   ]
  },
  {
   "cell_type": "code",
   "execution_count": 137,
   "metadata": {},
   "outputs": [
    {
     "data": {
      "text/html": [
       "<div>\n",
       "<style scoped>\n",
       "    .dataframe tbody tr th:only-of-type {\n",
       "        vertical-align: middle;\n",
       "    }\n",
       "\n",
       "    .dataframe tbody tr th {\n",
       "        vertical-align: top;\n",
       "    }\n",
       "\n",
       "    .dataframe thead th {\n",
       "        text-align: right;\n",
       "    }\n",
       "</style>\n",
       "<table border=\"1\" class=\"dataframe\">\n",
       "  <thead>\n",
       "    <tr style=\"text-align: right;\">\n",
       "      <th></th>\n",
       "      <th>TrackName</th>\n",
       "      <th>Lap Nbr</th>\n",
       "      <th>LpDistance</th>\n",
       "      <th>SessionTime</th>\n",
       "      <th>CurrentLapTime</th>\n",
       "      <th>Speed (MPH)</th>\n",
       "      <th>PreviousLap</th>\n",
       "      <th>LapCompleted</th>\n",
       "      <th>SteeringWheelAngle (deg)</th>\n",
       "      <th>Speed (MPH)</th>\n",
       "      <th>currentGear</th>\n",
       "    </tr>\n",
       "  </thead>\n",
       "  <tbody>\n",
       "    <tr>\n",
       "      <th>0</th>\n",
       "      <td>Martinsville Speedway</td>\n",
       "      <td>0</td>\n",
       "      <td>760.685652</td>\n",
       "      <td>08:48.000266</td>\n",
       "      <td>00:00.000000</td>\n",
       "      <td>0.01</td>\n",
       "      <td>0.000</td>\n",
       "      <td>0</td>\n",
       "      <td>3.053</td>\n",
       "      <td>0.01</td>\n",
       "      <td>0</td>\n",
       "    </tr>\n",
       "    <tr>\n",
       "      <th>1</th>\n",
       "      <td>Martinsville Speedway</td>\n",
       "      <td>0</td>\n",
       "      <td>760.685652</td>\n",
       "      <td>08:48.000366</td>\n",
       "      <td>00:00.000000</td>\n",
       "      <td>0.01</td>\n",
       "      <td>0.000</td>\n",
       "      <td>0</td>\n",
       "      <td>3.070</td>\n",
       "      <td>0.01</td>\n",
       "      <td>0</td>\n",
       "    </tr>\n",
       "    <tr>\n",
       "      <th>2</th>\n",
       "      <td>Martinsville Speedway</td>\n",
       "      <td>0</td>\n",
       "      <td>760.685652</td>\n",
       "      <td>08:48.000450</td>\n",
       "      <td>00:00.000000</td>\n",
       "      <td>0.01</td>\n",
       "      <td>0.000</td>\n",
       "      <td>0</td>\n",
       "      <td>2.891</td>\n",
       "      <td>0.01</td>\n",
       "      <td>0</td>\n",
       "    </tr>\n",
       "    <tr>\n",
       "      <th>3</th>\n",
       "      <td>Martinsville Speedway</td>\n",
       "      <td>0</td>\n",
       "      <td>760.685652</td>\n",
       "      <td>08:48.000550</td>\n",
       "      <td>00:00.000000</td>\n",
       "      <td>0.01</td>\n",
       "      <td>0.000</td>\n",
       "      <td>0</td>\n",
       "      <td>2.679</td>\n",
       "      <td>0.01</td>\n",
       "      <td>0</td>\n",
       "    </tr>\n",
       "    <tr>\n",
       "      <th>4</th>\n",
       "      <td>Martinsville Speedway</td>\n",
       "      <td>0</td>\n",
       "      <td>760.685652</td>\n",
       "      <td>08:48.000650</td>\n",
       "      <td>00:00.000000</td>\n",
       "      <td>0.00</td>\n",
       "      <td>0.000</td>\n",
       "      <td>0</td>\n",
       "      <td>2.623</td>\n",
       "      <td>0.00</td>\n",
       "      <td>0</td>\n",
       "    </tr>\n",
       "    <tr>\n",
       "      <th>...</th>\n",
       "      <td>...</td>\n",
       "      <td>...</td>\n",
       "      <td>...</td>\n",
       "      <td>...</td>\n",
       "      <td>...</td>\n",
       "      <td>...</td>\n",
       "      <td>...</td>\n",
       "      <td>...</td>\n",
       "      <td>...</td>\n",
       "      <td>...</td>\n",
       "      <td>...</td>\n",
       "    </tr>\n",
       "    <tr>\n",
       "      <th>8198</th>\n",
       "      <td>Martinsville Speedway</td>\n",
       "      <td>36</td>\n",
       "      <td>758.060870</td>\n",
       "      <td>22:50.000316</td>\n",
       "      <td>00:24.000590</td>\n",
       "      <td>0.00</td>\n",
       "      <td>32.983</td>\n",
       "      <td>35</td>\n",
       "      <td>-42.822</td>\n",
       "      <td>0.00</td>\n",
       "      <td>1</td>\n",
       "    </tr>\n",
       "    <tr>\n",
       "      <th>8199</th>\n",
       "      <td>Martinsville Speedway</td>\n",
       "      <td>36</td>\n",
       "      <td>758.060920</td>\n",
       "      <td>22:50.000433</td>\n",
       "      <td>00:24.000707</td>\n",
       "      <td>0.00</td>\n",
       "      <td>32.983</td>\n",
       "      <td>35</td>\n",
       "      <td>-42.868</td>\n",
       "      <td>0.00</td>\n",
       "      <td>1</td>\n",
       "    </tr>\n",
       "    <tr>\n",
       "      <th>8200</th>\n",
       "      <td>Martinsville Speedway</td>\n",
       "      <td>36</td>\n",
       "      <td>758.060920</td>\n",
       "      <td>22:50.000533</td>\n",
       "      <td>00:24.000807</td>\n",
       "      <td>0.00</td>\n",
       "      <td>32.983</td>\n",
       "      <td>35</td>\n",
       "      <td>-42.928</td>\n",
       "      <td>0.00</td>\n",
       "      <td>1</td>\n",
       "    </tr>\n",
       "    <tr>\n",
       "      <th>8201</th>\n",
       "      <td>Martinsville Speedway</td>\n",
       "      <td>36</td>\n",
       "      <td>758.060920</td>\n",
       "      <td>22:50.000633</td>\n",
       "      <td>00:24.000907</td>\n",
       "      <td>0.00</td>\n",
       "      <td>32.983</td>\n",
       "      <td>35</td>\n",
       "      <td>-42.822</td>\n",
       "      <td>0.00</td>\n",
       "      <td>1</td>\n",
       "    </tr>\n",
       "    <tr>\n",
       "      <th>8202</th>\n",
       "      <td>Martinsville Speedway</td>\n",
       "      <td>36</td>\n",
       "      <td>758.060870</td>\n",
       "      <td>22:50.000766</td>\n",
       "      <td>00:25.000040</td>\n",
       "      <td>0.00</td>\n",
       "      <td>32.983</td>\n",
       "      <td>35</td>\n",
       "      <td>-42.822</td>\n",
       "      <td>0.00</td>\n",
       "      <td>1</td>\n",
       "    </tr>\n",
       "  </tbody>\n",
       "</table>\n",
       "<p>8203 rows × 11 columns</p>\n",
       "</div>"
      ],
      "text/plain": [
       "                  TrackName  Lap Nbr  LpDistance   SessionTime CurrentLapTime  \\\n",
       "0     Martinsville Speedway        0  760.685652  08:48.000266   00:00.000000   \n",
       "1     Martinsville Speedway        0  760.685652  08:48.000366   00:00.000000   \n",
       "2     Martinsville Speedway        0  760.685652  08:48.000450   00:00.000000   \n",
       "3     Martinsville Speedway        0  760.685652  08:48.000550   00:00.000000   \n",
       "4     Martinsville Speedway        0  760.685652  08:48.000650   00:00.000000   \n",
       "...                     ...      ...         ...           ...            ...   \n",
       "8198  Martinsville Speedway       36  758.060870  22:50.000316   00:24.000590   \n",
       "8199  Martinsville Speedway       36  758.060920  22:50.000433   00:24.000707   \n",
       "8200  Martinsville Speedway       36  758.060920  22:50.000533   00:24.000807   \n",
       "8201  Martinsville Speedway       36  758.060920  22:50.000633   00:24.000907   \n",
       "8202  Martinsville Speedway       36  758.060870  22:50.000766   00:25.000040   \n",
       "\n",
       "      Speed (MPH)  PreviousLap  LapCompleted  SteeringWheelAngle (deg)  \\\n",
       "0            0.01        0.000             0                     3.053   \n",
       "1            0.01        0.000             0                     3.070   \n",
       "2            0.01        0.000             0                     2.891   \n",
       "3            0.01        0.000             0                     2.679   \n",
       "4            0.00        0.000             0                     2.623   \n",
       "...           ...          ...           ...                       ...   \n",
       "8198         0.00       32.983            35                   -42.822   \n",
       "8199         0.00       32.983            35                   -42.868   \n",
       "8200         0.00       32.983            35                   -42.928   \n",
       "8201         0.00       32.983            35                   -42.822   \n",
       "8202         0.00       32.983            35                   -42.822   \n",
       "\n",
       "      Speed (MPH)  currentGear  \n",
       "0            0.01            0  \n",
       "1            0.01            0  \n",
       "2            0.01            0  \n",
       "3            0.01            0  \n",
       "4            0.00            0  \n",
       "...           ...          ...  \n",
       "8198         0.00            1  \n",
       "8199         0.00            1  \n",
       "8200         0.00            1  \n",
       "8201         0.00            1  \n",
       "8202         0.00            1  \n",
       "\n",
       "[8203 rows x 11 columns]"
      ]
     },
     "metadata": {},
     "output_type": "display_data"
    }
   ],
   "source": [
    "track_location_df = df[track_location_columns]\n",
    "display(track_location_df)"
   ]
  },
  {
   "cell_type": "code",
   "execution_count": 140,
   "metadata": {},
   "outputs": [
    {
     "name": "stdout",
     "output_type": "stream",
     "text": [
      "0.0\n",
      "65.826\n"
     ]
    }
   ],
   "source": [
    "#start finish\n",
    "start_time = track_location_df['PreviousLap'].min()\n",
    "finish_time = track_location_df['PreviousLap'].max()\n",
    "print(start_time)\n",
    "print(finish_time)"
   ]
  },
  {
   "cell_type": "code",
   "execution_count": 119,
   "metadata": {},
   "outputs": [],
   "source": [
    "#length of the track \n",
    "length_track='.526'"
   ]
  },
  {
   "cell_type": "code",
   "execution_count": 122,
   "metadata": {},
   "outputs": [
    {
     "data": {
      "text/html": [
       "<div>\n",
       "<style scoped>\n",
       "    .dataframe tbody tr th:only-of-type {\n",
       "        vertical-align: middle;\n",
       "    }\n",
       "\n",
       "    .dataframe tbody tr th {\n",
       "        vertical-align: top;\n",
       "    }\n",
       "\n",
       "    .dataframe thead th {\n",
       "        text-align: right;\n",
       "    }\n",
       "</style>\n",
       "<table border=\"1\" class=\"dataframe\">\n",
       "  <thead>\n",
       "    <tr style=\"text-align: right;\">\n",
       "      <th></th>\n",
       "      <th>TrackName</th>\n",
       "      <th>Lap Nbr</th>\n",
       "      <th>LpDistance</th>\n",
       "      <th>SessionTime</th>\n",
       "      <th>CurrentLapTime</th>\n",
       "      <th>Speed (MPH)</th>\n",
       "      <th>PreviousLap</th>\n",
       "      <th>LapCompleted</th>\n",
       "      <th>SteeringWheelAngle (deg)</th>\n",
       "      <th>Speed (MPH)</th>\n",
       "      <th>currentGear</th>\n",
       "    </tr>\n",
       "  </thead>\n",
       "  <tbody>\n",
       "    <tr>\n",
       "      <th>0</th>\n",
       "      <td>Martinsville Speedway</td>\n",
       "      <td>0</td>\n",
       "      <td>760.685652</td>\n",
       "      <td>08:48.000266</td>\n",
       "      <td>00:00.000000</td>\n",
       "      <td>0.01</td>\n",
       "      <td>0.000</td>\n",
       "      <td>0</td>\n",
       "      <td>3.053</td>\n",
       "      <td>0.01</td>\n",
       "      <td>0</td>\n",
       "    </tr>\n",
       "    <tr>\n",
       "      <th>1</th>\n",
       "      <td>Martinsville Speedway</td>\n",
       "      <td>0</td>\n",
       "      <td>760.685652</td>\n",
       "      <td>08:48.000366</td>\n",
       "      <td>00:00.000000</td>\n",
       "      <td>0.01</td>\n",
       "      <td>0.000</td>\n",
       "      <td>0</td>\n",
       "      <td>3.070</td>\n",
       "      <td>0.01</td>\n",
       "      <td>0</td>\n",
       "    </tr>\n",
       "    <tr>\n",
       "      <th>2</th>\n",
       "      <td>Martinsville Speedway</td>\n",
       "      <td>0</td>\n",
       "      <td>760.685652</td>\n",
       "      <td>08:48.000450</td>\n",
       "      <td>00:00.000000</td>\n",
       "      <td>0.01</td>\n",
       "      <td>0.000</td>\n",
       "      <td>0</td>\n",
       "      <td>2.891</td>\n",
       "      <td>0.01</td>\n",
       "      <td>0</td>\n",
       "    </tr>\n",
       "    <tr>\n",
       "      <th>3</th>\n",
       "      <td>Martinsville Speedway</td>\n",
       "      <td>0</td>\n",
       "      <td>760.685652</td>\n",
       "      <td>08:48.000550</td>\n",
       "      <td>00:00.000000</td>\n",
       "      <td>0.01</td>\n",
       "      <td>0.000</td>\n",
       "      <td>0</td>\n",
       "      <td>2.679</td>\n",
       "      <td>0.01</td>\n",
       "      <td>0</td>\n",
       "    </tr>\n",
       "    <tr>\n",
       "      <th>4</th>\n",
       "      <td>Martinsville Speedway</td>\n",
       "      <td>0</td>\n",
       "      <td>760.685652</td>\n",
       "      <td>08:48.000650</td>\n",
       "      <td>00:00.000000</td>\n",
       "      <td>0.00</td>\n",
       "      <td>0.000</td>\n",
       "      <td>0</td>\n",
       "      <td>2.623</td>\n",
       "      <td>0.00</td>\n",
       "      <td>0</td>\n",
       "    </tr>\n",
       "    <tr>\n",
       "      <th>...</th>\n",
       "      <td>...</td>\n",
       "      <td>...</td>\n",
       "      <td>...</td>\n",
       "      <td>...</td>\n",
       "      <td>...</td>\n",
       "      <td>...</td>\n",
       "      <td>...</td>\n",
       "      <td>...</td>\n",
       "      <td>...</td>\n",
       "      <td>...</td>\n",
       "      <td>...</td>\n",
       "    </tr>\n",
       "    <tr>\n",
       "      <th>8198</th>\n",
       "      <td>Martinsville Speedway</td>\n",
       "      <td>36</td>\n",
       "      <td>758.060870</td>\n",
       "      <td>22:50.000316</td>\n",
       "      <td>00:24.000590</td>\n",
       "      <td>0.00</td>\n",
       "      <td>32.983</td>\n",
       "      <td>35</td>\n",
       "      <td>-42.822</td>\n",
       "      <td>0.00</td>\n",
       "      <td>1</td>\n",
       "    </tr>\n",
       "    <tr>\n",
       "      <th>8199</th>\n",
       "      <td>Martinsville Speedway</td>\n",
       "      <td>36</td>\n",
       "      <td>758.060920</td>\n",
       "      <td>22:50.000433</td>\n",
       "      <td>00:24.000707</td>\n",
       "      <td>0.00</td>\n",
       "      <td>32.983</td>\n",
       "      <td>35</td>\n",
       "      <td>-42.868</td>\n",
       "      <td>0.00</td>\n",
       "      <td>1</td>\n",
       "    </tr>\n",
       "    <tr>\n",
       "      <th>8200</th>\n",
       "      <td>Martinsville Speedway</td>\n",
       "      <td>36</td>\n",
       "      <td>758.060920</td>\n",
       "      <td>22:50.000533</td>\n",
       "      <td>00:24.000807</td>\n",
       "      <td>0.00</td>\n",
       "      <td>32.983</td>\n",
       "      <td>35</td>\n",
       "      <td>-42.928</td>\n",
       "      <td>0.00</td>\n",
       "      <td>1</td>\n",
       "    </tr>\n",
       "    <tr>\n",
       "      <th>8201</th>\n",
       "      <td>Martinsville Speedway</td>\n",
       "      <td>36</td>\n",
       "      <td>758.060920</td>\n",
       "      <td>22:50.000633</td>\n",
       "      <td>00:24.000907</td>\n",
       "      <td>0.00</td>\n",
       "      <td>32.983</td>\n",
       "      <td>35</td>\n",
       "      <td>-42.822</td>\n",
       "      <td>0.00</td>\n",
       "      <td>1</td>\n",
       "    </tr>\n",
       "    <tr>\n",
       "      <th>8202</th>\n",
       "      <td>Martinsville Speedway</td>\n",
       "      <td>36</td>\n",
       "      <td>758.060870</td>\n",
       "      <td>22:50.000766</td>\n",
       "      <td>00:25.000040</td>\n",
       "      <td>0.00</td>\n",
       "      <td>32.983</td>\n",
       "      <td>35</td>\n",
       "      <td>-42.822</td>\n",
       "      <td>0.00</td>\n",
       "      <td>1</td>\n",
       "    </tr>\n",
       "  </tbody>\n",
       "</table>\n",
       "<p>8203 rows × 11 columns</p>\n",
       "</div>"
      ],
      "text/plain": [
       "                  TrackName  Lap Nbr  LpDistance   SessionTime CurrentLapTime  \\\n",
       "0     Martinsville Speedway        0  760.685652  08:48.000266   00:00.000000   \n",
       "1     Martinsville Speedway        0  760.685652  08:48.000366   00:00.000000   \n",
       "2     Martinsville Speedway        0  760.685652  08:48.000450   00:00.000000   \n",
       "3     Martinsville Speedway        0  760.685652  08:48.000550   00:00.000000   \n",
       "4     Martinsville Speedway        0  760.685652  08:48.000650   00:00.000000   \n",
       "...                     ...      ...         ...           ...            ...   \n",
       "8198  Martinsville Speedway       36  758.060870  22:50.000316   00:24.000590   \n",
       "8199  Martinsville Speedway       36  758.060920  22:50.000433   00:24.000707   \n",
       "8200  Martinsville Speedway       36  758.060920  22:50.000533   00:24.000807   \n",
       "8201  Martinsville Speedway       36  758.060920  22:50.000633   00:24.000907   \n",
       "8202  Martinsville Speedway       36  758.060870  22:50.000766   00:25.000040   \n",
       "\n",
       "      Speed (MPH)  PreviousLap  LapCompleted  SteeringWheelAngle (deg)  \\\n",
       "0            0.01        0.000             0                     3.053   \n",
       "1            0.01        0.000             0                     3.070   \n",
       "2            0.01        0.000             0                     2.891   \n",
       "3            0.01        0.000             0                     2.679   \n",
       "4            0.00        0.000             0                     2.623   \n",
       "...           ...          ...           ...                       ...   \n",
       "8198         0.00       32.983            35                   -42.822   \n",
       "8199         0.00       32.983            35                   -42.868   \n",
       "8200         0.00       32.983            35                   -42.928   \n",
       "8201         0.00       32.983            35                   -42.822   \n",
       "8202         0.00       32.983            35                   -42.822   \n",
       "\n",
       "      Speed (MPH)  currentGear  \n",
       "0            0.01            0  \n",
       "1            0.01            0  \n",
       "2            0.01            0  \n",
       "3            0.01            0  \n",
       "4            0.00            0  \n",
       "...           ...          ...  \n",
       "8198         0.00            1  \n",
       "8199         0.00            1  \n",
       "8200         0.00            1  \n",
       "8201         0.00            1  \n",
       "8202         0.00            1  \n",
       "\n",
       "[8203 rows x 11 columns]"
      ]
     },
     "execution_count": 122,
     "metadata": {},
     "output_type": "execute_result"
    }
   ],
   "source": [
    "track_location_df"
   ]
  },
  {
   "cell_type": "code",
   "execution_count": 143,
   "metadata": {},
   "outputs": [],
   "source": [
    "# Group by 'lap_number' and get the maximum 'lap_time' for each group\n",
    "max_lap_times_per_lap = track_location_df.groupby('Lap Nbr')['CurrentLapTime'].max().reset_index()\n"
   ]
  },
  {
   "cell_type": "code",
   "execution_count": 125,
   "metadata": {},
   "outputs": [
    {
     "data": {
      "application/vnd.plotly.v1+json": {
       "config": {
        "plotlyServerURL": "https://plot.ly"
       },
       "data": [
        {
         "hovertemplate": "variable=CurrentLapTime<br>Lap Number=%{x}<br>value=%{y}<extra></extra>",
         "legendgroup": "CurrentLapTime",
         "line": {
          "color": "#636efa",
          "dash": "solid"
         },
         "marker": {
          "symbol": "circle"
         },
         "mode": "lines",
         "name": "CurrentLapTime",
         "orientation": "h",
         "showlegend": true,
         "type": "scatter",
         "x": [
          0,
          1,
          2,
          3,
          4,
          5,
          6,
          7,
          8,
          9,
          10,
          11,
          12,
          13,
          14,
          15,
          16,
          17,
          18,
          19,
          20,
          21,
          22,
          23,
          24,
          25,
          26,
          27,
          28,
          29,
          30,
          31,
          32,
          33,
          34,
          35,
          36
         ],
         "xaxis": "x",
         "y": [
          "00:00.000000",
          "00:24.000398",
          "00:24.000765",
          "00:20.000681",
          "00:20.000662",
          "00:20.000661",
          "00:20.000794",
          "00:20.000569",
          "00:20.000434",
          "00:20.000417",
          "00:20.000582",
          "00:20.000679",
          "00:20.000845",
          "00:20.000082",
          "00:20.000527",
          "00:20.000874",
          "00:20.000177",
          "00:20.000373",
          "00:20.000597",
          "00:20.000623",
          "00:20.000841",
          "00:21.000102",
          "00:21.000099",
          "00:20.000335",
          "00:36.000060",
          "01:05.000821",
          "01:06.000838",
          "00:23.000378",
          "00:22.000749",
          "00:21.000436",
          "00:20.000265",
          "00:20.000332",
          "00:20.000459",
          "00:20.000792",
          "00:20.000557",
          "00:32.000974",
          "00:33.000290"
         ],
         "yaxis": "y"
        }
       ],
       "layout": {
        "legend": {
         "title": {
          "text": "variable"
         },
         "tracegroupgap": 0
        },
        "template": {
         "data": {
          "bar": [
           {
            "error_x": {
             "color": "#2a3f5f"
            },
            "error_y": {
             "color": "#2a3f5f"
            },
            "marker": {
             "line": {
              "color": "#E5ECF6",
              "width": 0.5
             },
             "pattern": {
              "fillmode": "overlay",
              "size": 10,
              "solidity": 0.2
             }
            },
            "type": "bar"
           }
          ],
          "barpolar": [
           {
            "marker": {
             "line": {
              "color": "#E5ECF6",
              "width": 0.5
             },
             "pattern": {
              "fillmode": "overlay",
              "size": 10,
              "solidity": 0.2
             }
            },
            "type": "barpolar"
           }
          ],
          "carpet": [
           {
            "aaxis": {
             "endlinecolor": "#2a3f5f",
             "gridcolor": "white",
             "linecolor": "white",
             "minorgridcolor": "white",
             "startlinecolor": "#2a3f5f"
            },
            "baxis": {
             "endlinecolor": "#2a3f5f",
             "gridcolor": "white",
             "linecolor": "white",
             "minorgridcolor": "white",
             "startlinecolor": "#2a3f5f"
            },
            "type": "carpet"
           }
          ],
          "choropleth": [
           {
            "colorbar": {
             "outlinewidth": 0,
             "ticks": ""
            },
            "type": "choropleth"
           }
          ],
          "contour": [
           {
            "colorbar": {
             "outlinewidth": 0,
             "ticks": ""
            },
            "colorscale": [
             [
              0,
              "#0d0887"
             ],
             [
              0.1111111111111111,
              "#46039f"
             ],
             [
              0.2222222222222222,
              "#7201a8"
             ],
             [
              0.3333333333333333,
              "#9c179e"
             ],
             [
              0.4444444444444444,
              "#bd3786"
             ],
             [
              0.5555555555555556,
              "#d8576b"
             ],
             [
              0.6666666666666666,
              "#ed7953"
             ],
             [
              0.7777777777777778,
              "#fb9f3a"
             ],
             [
              0.8888888888888888,
              "#fdca26"
             ],
             [
              1,
              "#f0f921"
             ]
            ],
            "type": "contour"
           }
          ],
          "contourcarpet": [
           {
            "colorbar": {
             "outlinewidth": 0,
             "ticks": ""
            },
            "type": "contourcarpet"
           }
          ],
          "heatmap": [
           {
            "colorbar": {
             "outlinewidth": 0,
             "ticks": ""
            },
            "colorscale": [
             [
              0,
              "#0d0887"
             ],
             [
              0.1111111111111111,
              "#46039f"
             ],
             [
              0.2222222222222222,
              "#7201a8"
             ],
             [
              0.3333333333333333,
              "#9c179e"
             ],
             [
              0.4444444444444444,
              "#bd3786"
             ],
             [
              0.5555555555555556,
              "#d8576b"
             ],
             [
              0.6666666666666666,
              "#ed7953"
             ],
             [
              0.7777777777777778,
              "#fb9f3a"
             ],
             [
              0.8888888888888888,
              "#fdca26"
             ],
             [
              1,
              "#f0f921"
             ]
            ],
            "type": "heatmap"
           }
          ],
          "heatmapgl": [
           {
            "colorbar": {
             "outlinewidth": 0,
             "ticks": ""
            },
            "colorscale": [
             [
              0,
              "#0d0887"
             ],
             [
              0.1111111111111111,
              "#46039f"
             ],
             [
              0.2222222222222222,
              "#7201a8"
             ],
             [
              0.3333333333333333,
              "#9c179e"
             ],
             [
              0.4444444444444444,
              "#bd3786"
             ],
             [
              0.5555555555555556,
              "#d8576b"
             ],
             [
              0.6666666666666666,
              "#ed7953"
             ],
             [
              0.7777777777777778,
              "#fb9f3a"
             ],
             [
              0.8888888888888888,
              "#fdca26"
             ],
             [
              1,
              "#f0f921"
             ]
            ],
            "type": "heatmapgl"
           }
          ],
          "histogram": [
           {
            "marker": {
             "pattern": {
              "fillmode": "overlay",
              "size": 10,
              "solidity": 0.2
             }
            },
            "type": "histogram"
           }
          ],
          "histogram2d": [
           {
            "colorbar": {
             "outlinewidth": 0,
             "ticks": ""
            },
            "colorscale": [
             [
              0,
              "#0d0887"
             ],
             [
              0.1111111111111111,
              "#46039f"
             ],
             [
              0.2222222222222222,
              "#7201a8"
             ],
             [
              0.3333333333333333,
              "#9c179e"
             ],
             [
              0.4444444444444444,
              "#bd3786"
             ],
             [
              0.5555555555555556,
              "#d8576b"
             ],
             [
              0.6666666666666666,
              "#ed7953"
             ],
             [
              0.7777777777777778,
              "#fb9f3a"
             ],
             [
              0.8888888888888888,
              "#fdca26"
             ],
             [
              1,
              "#f0f921"
             ]
            ],
            "type": "histogram2d"
           }
          ],
          "histogram2dcontour": [
           {
            "colorbar": {
             "outlinewidth": 0,
             "ticks": ""
            },
            "colorscale": [
             [
              0,
              "#0d0887"
             ],
             [
              0.1111111111111111,
              "#46039f"
             ],
             [
              0.2222222222222222,
              "#7201a8"
             ],
             [
              0.3333333333333333,
              "#9c179e"
             ],
             [
              0.4444444444444444,
              "#bd3786"
             ],
             [
              0.5555555555555556,
              "#d8576b"
             ],
             [
              0.6666666666666666,
              "#ed7953"
             ],
             [
              0.7777777777777778,
              "#fb9f3a"
             ],
             [
              0.8888888888888888,
              "#fdca26"
             ],
             [
              1,
              "#f0f921"
             ]
            ],
            "type": "histogram2dcontour"
           }
          ],
          "mesh3d": [
           {
            "colorbar": {
             "outlinewidth": 0,
             "ticks": ""
            },
            "type": "mesh3d"
           }
          ],
          "parcoords": [
           {
            "line": {
             "colorbar": {
              "outlinewidth": 0,
              "ticks": ""
             }
            },
            "type": "parcoords"
           }
          ],
          "pie": [
           {
            "automargin": true,
            "type": "pie"
           }
          ],
          "scatter": [
           {
            "fillpattern": {
             "fillmode": "overlay",
             "size": 10,
             "solidity": 0.2
            },
            "type": "scatter"
           }
          ],
          "scatter3d": [
           {
            "line": {
             "colorbar": {
              "outlinewidth": 0,
              "ticks": ""
             }
            },
            "marker": {
             "colorbar": {
              "outlinewidth": 0,
              "ticks": ""
             }
            },
            "type": "scatter3d"
           }
          ],
          "scattercarpet": [
           {
            "marker": {
             "colorbar": {
              "outlinewidth": 0,
              "ticks": ""
             }
            },
            "type": "scattercarpet"
           }
          ],
          "scattergeo": [
           {
            "marker": {
             "colorbar": {
              "outlinewidth": 0,
              "ticks": ""
             }
            },
            "type": "scattergeo"
           }
          ],
          "scattergl": [
           {
            "marker": {
             "colorbar": {
              "outlinewidth": 0,
              "ticks": ""
             }
            },
            "type": "scattergl"
           }
          ],
          "scattermapbox": [
           {
            "marker": {
             "colorbar": {
              "outlinewidth": 0,
              "ticks": ""
             }
            },
            "type": "scattermapbox"
           }
          ],
          "scatterpolar": [
           {
            "marker": {
             "colorbar": {
              "outlinewidth": 0,
              "ticks": ""
             }
            },
            "type": "scatterpolar"
           }
          ],
          "scatterpolargl": [
           {
            "marker": {
             "colorbar": {
              "outlinewidth": 0,
              "ticks": ""
             }
            },
            "type": "scatterpolargl"
           }
          ],
          "scatterternary": [
           {
            "marker": {
             "colorbar": {
              "outlinewidth": 0,
              "ticks": ""
             }
            },
            "type": "scatterternary"
           }
          ],
          "surface": [
           {
            "colorbar": {
             "outlinewidth": 0,
             "ticks": ""
            },
            "colorscale": [
             [
              0,
              "#0d0887"
             ],
             [
              0.1111111111111111,
              "#46039f"
             ],
             [
              0.2222222222222222,
              "#7201a8"
             ],
             [
              0.3333333333333333,
              "#9c179e"
             ],
             [
              0.4444444444444444,
              "#bd3786"
             ],
             [
              0.5555555555555556,
              "#d8576b"
             ],
             [
              0.6666666666666666,
              "#ed7953"
             ],
             [
              0.7777777777777778,
              "#fb9f3a"
             ],
             [
              0.8888888888888888,
              "#fdca26"
             ],
             [
              1,
              "#f0f921"
             ]
            ],
            "type": "surface"
           }
          ],
          "table": [
           {
            "cells": {
             "fill": {
              "color": "#EBF0F8"
             },
             "line": {
              "color": "white"
             }
            },
            "header": {
             "fill": {
              "color": "#C8D4E3"
             },
             "line": {
              "color": "white"
             }
            },
            "type": "table"
           }
          ]
         },
         "layout": {
          "annotationdefaults": {
           "arrowcolor": "#2a3f5f",
           "arrowhead": 0,
           "arrowwidth": 1
          },
          "autotypenumbers": "strict",
          "coloraxis": {
           "colorbar": {
            "outlinewidth": 0,
            "ticks": ""
           }
          },
          "colorscale": {
           "diverging": [
            [
             0,
             "#8e0152"
            ],
            [
             0.1,
             "#c51b7d"
            ],
            [
             0.2,
             "#de77ae"
            ],
            [
             0.3,
             "#f1b6da"
            ],
            [
             0.4,
             "#fde0ef"
            ],
            [
             0.5,
             "#f7f7f7"
            ],
            [
             0.6,
             "#e6f5d0"
            ],
            [
             0.7,
             "#b8e186"
            ],
            [
             0.8,
             "#7fbc41"
            ],
            [
             0.9,
             "#4d9221"
            ],
            [
             1,
             "#276419"
            ]
           ],
           "sequential": [
            [
             0,
             "#0d0887"
            ],
            [
             0.1111111111111111,
             "#46039f"
            ],
            [
             0.2222222222222222,
             "#7201a8"
            ],
            [
             0.3333333333333333,
             "#9c179e"
            ],
            [
             0.4444444444444444,
             "#bd3786"
            ],
            [
             0.5555555555555556,
             "#d8576b"
            ],
            [
             0.6666666666666666,
             "#ed7953"
            ],
            [
             0.7777777777777778,
             "#fb9f3a"
            ],
            [
             0.8888888888888888,
             "#fdca26"
            ],
            [
             1,
             "#f0f921"
            ]
           ],
           "sequentialminus": [
            [
             0,
             "#0d0887"
            ],
            [
             0.1111111111111111,
             "#46039f"
            ],
            [
             0.2222222222222222,
             "#7201a8"
            ],
            [
             0.3333333333333333,
             "#9c179e"
            ],
            [
             0.4444444444444444,
             "#bd3786"
            ],
            [
             0.5555555555555556,
             "#d8576b"
            ],
            [
             0.6666666666666666,
             "#ed7953"
            ],
            [
             0.7777777777777778,
             "#fb9f3a"
            ],
            [
             0.8888888888888888,
             "#fdca26"
            ],
            [
             1,
             "#f0f921"
            ]
           ]
          },
          "colorway": [
           "#636efa",
           "#EF553B",
           "#00cc96",
           "#ab63fa",
           "#FFA15A",
           "#19d3f3",
           "#FF6692",
           "#B6E880",
           "#FF97FF",
           "#FECB52"
          ],
          "font": {
           "color": "#2a3f5f"
          },
          "geo": {
           "bgcolor": "white",
           "lakecolor": "white",
           "landcolor": "#E5ECF6",
           "showlakes": true,
           "showland": true,
           "subunitcolor": "white"
          },
          "hoverlabel": {
           "align": "left"
          },
          "hovermode": "closest",
          "mapbox": {
           "style": "light"
          },
          "paper_bgcolor": "white",
          "plot_bgcolor": "#E5ECF6",
          "polar": {
           "angularaxis": {
            "gridcolor": "white",
            "linecolor": "white",
            "ticks": ""
           },
           "bgcolor": "#E5ECF6",
           "radialaxis": {
            "gridcolor": "white",
            "linecolor": "white",
            "ticks": ""
           }
          },
          "scene": {
           "xaxis": {
            "backgroundcolor": "#E5ECF6",
            "gridcolor": "white",
            "gridwidth": 2,
            "linecolor": "white",
            "showbackground": true,
            "ticks": "",
            "zerolinecolor": "white"
           },
           "yaxis": {
            "backgroundcolor": "#E5ECF6",
            "gridcolor": "white",
            "gridwidth": 2,
            "linecolor": "white",
            "showbackground": true,
            "ticks": "",
            "zerolinecolor": "white"
           },
           "zaxis": {
            "backgroundcolor": "#E5ECF6",
            "gridcolor": "white",
            "gridwidth": 2,
            "linecolor": "white",
            "showbackground": true,
            "ticks": "",
            "zerolinecolor": "white"
           }
          },
          "shapedefaults": {
           "line": {
            "color": "#2a3f5f"
           }
          },
          "ternary": {
           "aaxis": {
            "gridcolor": "white",
            "linecolor": "white",
            "ticks": ""
           },
           "baxis": {
            "gridcolor": "white",
            "linecolor": "white",
            "ticks": ""
           },
           "bgcolor": "#E5ECF6",
           "caxis": {
            "gridcolor": "white",
            "linecolor": "white",
            "ticks": ""
           }
          },
          "title": {
           "x": 0.05
          },
          "xaxis": {
           "automargin": true,
           "gridcolor": "white",
           "linecolor": "white",
           "ticks": "",
           "title": {
            "standoff": 15
           },
           "zerolinecolor": "white",
           "zerolinewidth": 2
          },
          "yaxis": {
           "automargin": true,
           "gridcolor": "white",
           "linecolor": "white",
           "ticks": "",
           "title": {
            "standoff": 15
           },
           "zerolinecolor": "white",
           "zerolinewidth": 2
          }
         }
        },
        "title": {
         "text": "Maximum Lap Time per Lap Number"
        },
        "xaxis": {
         "anchor": "y",
         "domain": [
          0,
          1
         ],
         "title": {
          "text": "Lap Number"
         }
        },
        "yaxis": {
         "anchor": "x",
         "domain": [
          0,
          1
         ],
         "title": {
          "text": "value"
         }
        }
       }
      }
     },
     "metadata": {},
     "output_type": "display_data"
    }
   ],
   "source": [
    "# Create a Plotly bar chart\n",
    "fig = px.line(max_lap_times_per_lap, x='Lap Nbr', y=['CurrentLapTime'],\n",
    "             title='Maximum Lap Time per Lap Number',\n",
    "             labels={'Lap Nbr': 'Lap Number', 'CurrentLapTime_2': 'Max Lap Time'})\n",
    "\n",
    "# Show the Plotly chart\n",
    "fig.show()"
   ]
  },
  {
   "cell_type": "code",
   "execution_count": 144,
   "metadata": {},
   "outputs": [
    {
     "data": {
      "application/vnd.plotly.v1+json": {
       "config": {
        "plotlyServerURL": "https://plot.ly"
       },
       "data": [
        {
         "hovertemplate": "Lap Nbr=1<br>Lap Time=%{x}<br>Steering Wheel Angle=%{y}<extra></extra>",
         "legendgroup": "1",
         "line": {
          "color": "#636efa",
          "dash": "solid"
         },
         "marker": {
          "symbol": "circle"
         },
         "mode": "lines",
         "name": "1",
         "orientation": "v",
         "showlegend": true,
         "type": "scatter",
         "x": [
          "00:00.000000",
          "00:00.000000",
          "00:00.000000",
          "00:00.000000",
          "00:00.000000",
          "00:00.000498",
          "00:00.000598",
          "00:00.000682",
          "00:00.000782",
          "00:00.000865",
          "00:00.000965",
          "00:01.000065",
          "00:01.000148",
          "00:01.000248",
          "00:01.000332",
          "00:01.000432",
          "00:01.000515",
          "00:01.000615",
          "00:01.000698",
          "00:01.000798",
          "00:01.000898",
          "00:01.000998",
          "00:02.000098",
          "00:02.000198",
          "00:02.000298",
          "00:02.000398",
          "00:02.000498",
          "00:02.000582",
          "00:02.000682",
          "00:02.000782",
          "00:02.000865",
          "00:02.000965",
          "00:03.000048",
          "00:03.000148",
          "00:03.000248",
          "00:03.000332",
          "00:03.000448",
          "00:03.000548",
          "00:03.000632",
          "00:03.000732",
          "00:03.000815",
          "00:03.000915",
          "00:04.000015",
          "00:04.000132",
          "00:04.000232",
          "00:04.000315",
          "00:04.000415",
          "00:04.000498",
          "00:04.000598",
          "00:04.000698",
          "00:04.000782",
          "00:04.000882",
          "00:04.000982",
          "00:05.000065",
          "00:05.000165",
          "00:05.000265",
          "00:05.000348",
          "00:05.000448",
          "00:05.000532",
          "00:05.000632",
          "00:05.000715",
          "00:05.000815",
          "00:05.000915",
          "00:06.000015",
          "00:06.000132",
          "00:06.000232",
          "00:06.000315",
          "00:06.000415",
          "00:06.000498",
          "00:06.000598",
          "00:06.000682",
          "00:06.000782",
          "00:06.000865",
          "00:06.000965",
          "00:07.000048",
          "00:07.000148",
          "00:07.000248",
          "00:07.000332",
          "00:07.000432",
          "00:07.000515",
          "00:07.000615",
          "00:07.000715",
          "00:07.000815",
          "00:07.000915",
          "00:08.000048",
          "00:08.000148",
          "00:08.000248",
          "00:08.000332",
          "00:08.000432",
          "00:08.000515",
          "00:08.000615",
          "00:08.000698",
          "00:08.000798",
          "00:08.000898",
          "00:08.000982",
          "00:09.000082",
          "00:09.000165",
          "00:09.000265",
          "00:09.000348",
          "00:09.000448",
          "00:09.000532",
          "00:09.000632",
          "00:09.000748",
          "00:09.000848",
          "00:09.000965",
          "00:10.000098",
          "00:10.000198",
          "00:10.000315",
          "00:10.000415",
          "00:10.000515",
          "00:10.000598",
          "00:10.000698",
          "00:10.000782",
          "00:10.000882",
          "00:10.000982",
          "00:11.000065",
          "00:11.000165",
          "00:11.000248",
          "00:11.000348",
          "00:11.000448",
          "00:11.000532",
          "00:11.000615",
          "00:11.000715",
          "00:11.000815",
          "00:11.000898",
          "00:12.000015",
          "00:12.000115",
          "00:12.000215",
          "00:12.000315",
          "00:12.000415",
          "00:12.000498",
          "00:12.000598",
          "00:12.000682",
          "00:12.000782",
          "00:12.000882",
          "00:12.000982",
          "00:13.000065",
          "00:13.000165",
          "00:13.000265",
          "00:13.000348",
          "00:13.000448",
          "00:13.000532",
          "00:13.000632",
          "00:13.000715",
          "00:13.000815",
          "00:13.000915",
          "00:14.000032",
          "00:14.000132",
          "00:14.000232",
          "00:14.000332",
          "00:14.000448",
          "00:14.000532",
          "00:14.000632",
          "00:14.000732",
          "00:14.000815",
          "00:14.000915",
          "00:15.000015",
          "00:15.000098",
          "00:15.000198",
          "00:15.000282",
          "00:15.000382",
          "00:15.000482",
          "00:15.000565",
          "00:15.000665",
          "00:15.000765",
          "00:15.000865",
          "00:15.000965",
          "00:16.000065",
          "00:16.000182",
          "00:16.000265",
          "00:16.000365",
          "00:16.000465",
          "00:16.000548",
          "00:16.000648",
          "00:16.000732",
          "00:16.000848",
          "00:16.000948",
          "00:17.000032",
          "00:17.000132",
          "00:17.000232",
          "00:17.000315",
          "00:17.000415",
          "00:17.000498",
          "00:17.000598",
          "00:17.000682",
          "00:17.000782",
          "00:17.000865",
          "00:17.000982",
          "00:18.000082",
          "00:18.000182",
          "00:18.000282",
          "00:18.000365",
          "00:18.000465",
          "00:18.000565",
          "00:18.000648",
          "00:18.000748",
          "00:18.000832",
          "00:18.000932",
          "00:19.000032",
          "00:19.000132",
          "00:19.000232",
          "00:19.000315",
          "00:19.000415",
          "00:19.000498",
          "00:19.000598",
          "00:19.000682",
          "00:19.000782",
          "00:19.000882",
          "00:19.000982",
          "00:20.000065",
          "00:20.000165",
          "00:20.000265",
          "00:20.000348",
          "00:20.000448",
          "00:20.000532",
          "00:20.000632",
          "00:20.000732",
          "00:20.000832",
          "00:20.000915",
          "00:21.000015",
          "00:21.000115",
          "00:21.000215",
          "00:21.000298",
          "00:21.000398",
          "00:21.000482",
          "00:21.000582",
          "00:21.000682",
          "00:21.000765",
          "00:21.000865",
          "00:21.000965",
          "00:22.000082",
          "00:22.000182",
          "00:22.000282",
          "00:22.000365",
          "00:22.000482",
          "00:22.000565",
          "00:22.000665",
          "00:22.000748",
          "00:22.000848",
          "00:22.000932",
          "00:23.000032",
          "00:23.000132",
          "00:23.000215",
          "00:23.000315",
          "00:23.000415",
          "00:23.000498",
          "00:23.000598",
          "00:23.000682",
          "00:23.000782",
          "00:23.000882",
          "00:23.000982",
          "00:24.000098",
          "00:24.000198",
          "00:24.000298",
          "00:24.000398"
         ],
         "xaxis": "x",
         "y": [
          2.963,
          0.056,
          -0.195,
          0.48,
          -0.34,
          -0.48,
          0.43,
          0.106,
          0.212,
          -0.374,
          1.713,
          0.675,
          0.642,
          0.234,
          0.195,
          0.324,
          0.162,
          -1.267,
          -3.069,
          -3.181,
          -4.984,
          -5.7,
          -8.473,
          -13.354,
          -16.42,
          -21.153,
          -29.274,
          -31.725,
          -28.811,
          -30.329,
          -32.828,
          -36.305,
          -44.509,
          -47.706,
          -48.902,
          -47.057,
          -49.055,
          -55.351,
          -53.501,
          -44.509,
          -47.877,
          -57.837,
          -58.958,
          -56.159,
          -62.539,
          -56.943,
          -50.499,
          -56.399,
          -63.785,
          -67.034,
          -61.776,
          -62.209,
          -66.316,
          -59.617,
          -57.679,
          -62.954,
          -61.854,
          -67.793,
          -69.599,
          -70.414,
          -71.358,
          -65.332,
          -67.86,
          -71.332,
          -60.168,
          -61.216,
          -65.916,
          -61.029,
          -57.089,
          -64.078,
          -66.336,
          -63.226,
          -64.013,
          -67.476,
          -64.286,
          -68.475,
          -69.939,
          -64.325,
          -69.579,
          -68.834,
          -64.097,
          -67.033,
          -60.353,
          -60.231,
          -64.221,
          -70.025,
          -75.646,
          -77.733,
          -77.251,
          -73.732,
          -63.018,
          -47.51,
          -43.464,
          -42.921,
          -37.173,
          -33.782,
          -18.683,
          -6.912,
          -2.857,
          3.337,
          3.214,
          1.501,
          2.606,
          2.573,
          2.143,
          -3.337,
          -0.033,
          -1.177,
          -2.623,
          2.159,
          0,
          -1.908,
          0.714,
          1.3,
          0.285,
          -1.144,
          0.731,
          0.586,
          -0.82,
          0.697,
          1.624,
          0.586,
          0.48,
          0.43,
          1.267,
          1.283,
          -0.374,
          -1.875,
          -0.089,
          -0.714,
          -0.268,
          0.033,
          -0.324,
          -0.301,
          -1.015,
          0.943,
          1.161,
          0.909,
          -0.195,
          0.999,
          1.055,
          1.73,
          1.144,
          1.161,
          1.194,
          1.3,
          1.177,
          0.519,
          -0.195,
          -0.965,
          -2.176,
          -4.409,
          -7.489,
          -9.599,
          -13.861,
          -20.738,
          -25.618,
          -30.37,
          -30.701,
          -34.386,
          -36.057,
          -40.946,
          -48,
          -50.004,
          -51.725,
          -51.409,
          -53.345,
          -57.736,
          -58.245,
          -60.457,
          -63.2,
          -62.934,
          -64.221,
          -68.814,
          -70.113,
          -74.296,
          -68.9,
          -66.717,
          -78.175,
          -80,
          -72.003,
          -74.276,
          -80.355,
          -71.465,
          -70.112,
          -80.111,
          -77.864,
          -67.647,
          -75.011,
          -77.782,
          -75.536,
          -74.534,
          -77.403,
          -70.989,
          -64.789,
          -68.814,
          -67.965,
          -59.879,
          -64.619,
          -68.342,
          -62.247,
          -62.973,
          -68.96,
          -65.79,
          -68.495,
          -69.046,
          -62.04,
          -70.56,
          -74.425,
          -77.12,
          -78.576,
          -76.173,
          -72.67,
          -79.506,
          -80.781,
          -77.361,
          -61.589,
          -48.705,
          -48.742,
          -45.559,
          -30.515,
          -23.618,
          -18.558,
          -16.279,
          -16.945,
          -12.314,
          -14.041,
          -8.238,
          -5.571,
          -3.734,
          -1.858,
          -2.517,
          -1.663,
          -1.373,
          -1.233,
          -1.322,
          -2.176,
          -2.645,
          -3.538,
          -2.891,
          2.55,
          -0.714,
          0.446,
          -0.056,
          -0.681,
          -2.265,
          -2.143,
          -2.199,
          -2.109,
          -1.501,
          -2.02,
          -1.177,
          -0.106,
          -1.752,
          0.642
         ],
         "yaxis": "y"
        }
       ],
       "layout": {
        "legend": {
         "title": {
          "text": "Lap Nbr"
         },
         "tracegroupgap": 0
        },
        "template": {
         "data": {
          "bar": [
           {
            "error_x": {
             "color": "#2a3f5f"
            },
            "error_y": {
             "color": "#2a3f5f"
            },
            "marker": {
             "line": {
              "color": "#E5ECF6",
              "width": 0.5
             },
             "pattern": {
              "fillmode": "overlay",
              "size": 10,
              "solidity": 0.2
             }
            },
            "type": "bar"
           }
          ],
          "barpolar": [
           {
            "marker": {
             "line": {
              "color": "#E5ECF6",
              "width": 0.5
             },
             "pattern": {
              "fillmode": "overlay",
              "size": 10,
              "solidity": 0.2
             }
            },
            "type": "barpolar"
           }
          ],
          "carpet": [
           {
            "aaxis": {
             "endlinecolor": "#2a3f5f",
             "gridcolor": "white",
             "linecolor": "white",
             "minorgridcolor": "white",
             "startlinecolor": "#2a3f5f"
            },
            "baxis": {
             "endlinecolor": "#2a3f5f",
             "gridcolor": "white",
             "linecolor": "white",
             "minorgridcolor": "white",
             "startlinecolor": "#2a3f5f"
            },
            "type": "carpet"
           }
          ],
          "choropleth": [
           {
            "colorbar": {
             "outlinewidth": 0,
             "ticks": ""
            },
            "type": "choropleth"
           }
          ],
          "contour": [
           {
            "colorbar": {
             "outlinewidth": 0,
             "ticks": ""
            },
            "colorscale": [
             [
              0,
              "#0d0887"
             ],
             [
              0.1111111111111111,
              "#46039f"
             ],
             [
              0.2222222222222222,
              "#7201a8"
             ],
             [
              0.3333333333333333,
              "#9c179e"
             ],
             [
              0.4444444444444444,
              "#bd3786"
             ],
             [
              0.5555555555555556,
              "#d8576b"
             ],
             [
              0.6666666666666666,
              "#ed7953"
             ],
             [
              0.7777777777777778,
              "#fb9f3a"
             ],
             [
              0.8888888888888888,
              "#fdca26"
             ],
             [
              1,
              "#f0f921"
             ]
            ],
            "type": "contour"
           }
          ],
          "contourcarpet": [
           {
            "colorbar": {
             "outlinewidth": 0,
             "ticks": ""
            },
            "type": "contourcarpet"
           }
          ],
          "heatmap": [
           {
            "colorbar": {
             "outlinewidth": 0,
             "ticks": ""
            },
            "colorscale": [
             [
              0,
              "#0d0887"
             ],
             [
              0.1111111111111111,
              "#46039f"
             ],
             [
              0.2222222222222222,
              "#7201a8"
             ],
             [
              0.3333333333333333,
              "#9c179e"
             ],
             [
              0.4444444444444444,
              "#bd3786"
             ],
             [
              0.5555555555555556,
              "#d8576b"
             ],
             [
              0.6666666666666666,
              "#ed7953"
             ],
             [
              0.7777777777777778,
              "#fb9f3a"
             ],
             [
              0.8888888888888888,
              "#fdca26"
             ],
             [
              1,
              "#f0f921"
             ]
            ],
            "type": "heatmap"
           }
          ],
          "heatmapgl": [
           {
            "colorbar": {
             "outlinewidth": 0,
             "ticks": ""
            },
            "colorscale": [
             [
              0,
              "#0d0887"
             ],
             [
              0.1111111111111111,
              "#46039f"
             ],
             [
              0.2222222222222222,
              "#7201a8"
             ],
             [
              0.3333333333333333,
              "#9c179e"
             ],
             [
              0.4444444444444444,
              "#bd3786"
             ],
             [
              0.5555555555555556,
              "#d8576b"
             ],
             [
              0.6666666666666666,
              "#ed7953"
             ],
             [
              0.7777777777777778,
              "#fb9f3a"
             ],
             [
              0.8888888888888888,
              "#fdca26"
             ],
             [
              1,
              "#f0f921"
             ]
            ],
            "type": "heatmapgl"
           }
          ],
          "histogram": [
           {
            "marker": {
             "pattern": {
              "fillmode": "overlay",
              "size": 10,
              "solidity": 0.2
             }
            },
            "type": "histogram"
           }
          ],
          "histogram2d": [
           {
            "colorbar": {
             "outlinewidth": 0,
             "ticks": ""
            },
            "colorscale": [
             [
              0,
              "#0d0887"
             ],
             [
              0.1111111111111111,
              "#46039f"
             ],
             [
              0.2222222222222222,
              "#7201a8"
             ],
             [
              0.3333333333333333,
              "#9c179e"
             ],
             [
              0.4444444444444444,
              "#bd3786"
             ],
             [
              0.5555555555555556,
              "#d8576b"
             ],
             [
              0.6666666666666666,
              "#ed7953"
             ],
             [
              0.7777777777777778,
              "#fb9f3a"
             ],
             [
              0.8888888888888888,
              "#fdca26"
             ],
             [
              1,
              "#f0f921"
             ]
            ],
            "type": "histogram2d"
           }
          ],
          "histogram2dcontour": [
           {
            "colorbar": {
             "outlinewidth": 0,
             "ticks": ""
            },
            "colorscale": [
             [
              0,
              "#0d0887"
             ],
             [
              0.1111111111111111,
              "#46039f"
             ],
             [
              0.2222222222222222,
              "#7201a8"
             ],
             [
              0.3333333333333333,
              "#9c179e"
             ],
             [
              0.4444444444444444,
              "#bd3786"
             ],
             [
              0.5555555555555556,
              "#d8576b"
             ],
             [
              0.6666666666666666,
              "#ed7953"
             ],
             [
              0.7777777777777778,
              "#fb9f3a"
             ],
             [
              0.8888888888888888,
              "#fdca26"
             ],
             [
              1,
              "#f0f921"
             ]
            ],
            "type": "histogram2dcontour"
           }
          ],
          "mesh3d": [
           {
            "colorbar": {
             "outlinewidth": 0,
             "ticks": ""
            },
            "type": "mesh3d"
           }
          ],
          "parcoords": [
           {
            "line": {
             "colorbar": {
              "outlinewidth": 0,
              "ticks": ""
             }
            },
            "type": "parcoords"
           }
          ],
          "pie": [
           {
            "automargin": true,
            "type": "pie"
           }
          ],
          "scatter": [
           {
            "fillpattern": {
             "fillmode": "overlay",
             "size": 10,
             "solidity": 0.2
            },
            "type": "scatter"
           }
          ],
          "scatter3d": [
           {
            "line": {
             "colorbar": {
              "outlinewidth": 0,
              "ticks": ""
             }
            },
            "marker": {
             "colorbar": {
              "outlinewidth": 0,
              "ticks": ""
             }
            },
            "type": "scatter3d"
           }
          ],
          "scattercarpet": [
           {
            "marker": {
             "colorbar": {
              "outlinewidth": 0,
              "ticks": ""
             }
            },
            "type": "scattercarpet"
           }
          ],
          "scattergeo": [
           {
            "marker": {
             "colorbar": {
              "outlinewidth": 0,
              "ticks": ""
             }
            },
            "type": "scattergeo"
           }
          ],
          "scattergl": [
           {
            "marker": {
             "colorbar": {
              "outlinewidth": 0,
              "ticks": ""
             }
            },
            "type": "scattergl"
           }
          ],
          "scattermapbox": [
           {
            "marker": {
             "colorbar": {
              "outlinewidth": 0,
              "ticks": ""
             }
            },
            "type": "scattermapbox"
           }
          ],
          "scatterpolar": [
           {
            "marker": {
             "colorbar": {
              "outlinewidth": 0,
              "ticks": ""
             }
            },
            "type": "scatterpolar"
           }
          ],
          "scatterpolargl": [
           {
            "marker": {
             "colorbar": {
              "outlinewidth": 0,
              "ticks": ""
             }
            },
            "type": "scatterpolargl"
           }
          ],
          "scatterternary": [
           {
            "marker": {
             "colorbar": {
              "outlinewidth": 0,
              "ticks": ""
             }
            },
            "type": "scatterternary"
           }
          ],
          "surface": [
           {
            "colorbar": {
             "outlinewidth": 0,
             "ticks": ""
            },
            "colorscale": [
             [
              0,
              "#0d0887"
             ],
             [
              0.1111111111111111,
              "#46039f"
             ],
             [
              0.2222222222222222,
              "#7201a8"
             ],
             [
              0.3333333333333333,
              "#9c179e"
             ],
             [
              0.4444444444444444,
              "#bd3786"
             ],
             [
              0.5555555555555556,
              "#d8576b"
             ],
             [
              0.6666666666666666,
              "#ed7953"
             ],
             [
              0.7777777777777778,
              "#fb9f3a"
             ],
             [
              0.8888888888888888,
              "#fdca26"
             ],
             [
              1,
              "#f0f921"
             ]
            ],
            "type": "surface"
           }
          ],
          "table": [
           {
            "cells": {
             "fill": {
              "color": "#EBF0F8"
             },
             "line": {
              "color": "white"
             }
            },
            "header": {
             "fill": {
              "color": "#C8D4E3"
             },
             "line": {
              "color": "white"
             }
            },
            "type": "table"
           }
          ]
         },
         "layout": {
          "annotationdefaults": {
           "arrowcolor": "#2a3f5f",
           "arrowhead": 0,
           "arrowwidth": 1
          },
          "autotypenumbers": "strict",
          "coloraxis": {
           "colorbar": {
            "outlinewidth": 0,
            "ticks": ""
           }
          },
          "colorscale": {
           "diverging": [
            [
             0,
             "#8e0152"
            ],
            [
             0.1,
             "#c51b7d"
            ],
            [
             0.2,
             "#de77ae"
            ],
            [
             0.3,
             "#f1b6da"
            ],
            [
             0.4,
             "#fde0ef"
            ],
            [
             0.5,
             "#f7f7f7"
            ],
            [
             0.6,
             "#e6f5d0"
            ],
            [
             0.7,
             "#b8e186"
            ],
            [
             0.8,
             "#7fbc41"
            ],
            [
             0.9,
             "#4d9221"
            ],
            [
             1,
             "#276419"
            ]
           ],
           "sequential": [
            [
             0,
             "#0d0887"
            ],
            [
             0.1111111111111111,
             "#46039f"
            ],
            [
             0.2222222222222222,
             "#7201a8"
            ],
            [
             0.3333333333333333,
             "#9c179e"
            ],
            [
             0.4444444444444444,
             "#bd3786"
            ],
            [
             0.5555555555555556,
             "#d8576b"
            ],
            [
             0.6666666666666666,
             "#ed7953"
            ],
            [
             0.7777777777777778,
             "#fb9f3a"
            ],
            [
             0.8888888888888888,
             "#fdca26"
            ],
            [
             1,
             "#f0f921"
            ]
           ],
           "sequentialminus": [
            [
             0,
             "#0d0887"
            ],
            [
             0.1111111111111111,
             "#46039f"
            ],
            [
             0.2222222222222222,
             "#7201a8"
            ],
            [
             0.3333333333333333,
             "#9c179e"
            ],
            [
             0.4444444444444444,
             "#bd3786"
            ],
            [
             0.5555555555555556,
             "#d8576b"
            ],
            [
             0.6666666666666666,
             "#ed7953"
            ],
            [
             0.7777777777777778,
             "#fb9f3a"
            ],
            [
             0.8888888888888888,
             "#fdca26"
            ],
            [
             1,
             "#f0f921"
            ]
           ]
          },
          "colorway": [
           "#636efa",
           "#EF553B",
           "#00cc96",
           "#ab63fa",
           "#FFA15A",
           "#19d3f3",
           "#FF6692",
           "#B6E880",
           "#FF97FF",
           "#FECB52"
          ],
          "font": {
           "color": "#2a3f5f"
          },
          "geo": {
           "bgcolor": "white",
           "lakecolor": "white",
           "landcolor": "#E5ECF6",
           "showlakes": true,
           "showland": true,
           "subunitcolor": "white"
          },
          "hoverlabel": {
           "align": "left"
          },
          "hovermode": "closest",
          "mapbox": {
           "style": "light"
          },
          "paper_bgcolor": "white",
          "plot_bgcolor": "#E5ECF6",
          "polar": {
           "angularaxis": {
            "gridcolor": "white",
            "linecolor": "white",
            "ticks": ""
           },
           "bgcolor": "#E5ECF6",
           "radialaxis": {
            "gridcolor": "white",
            "linecolor": "white",
            "ticks": ""
           }
          },
          "scene": {
           "xaxis": {
            "backgroundcolor": "#E5ECF6",
            "gridcolor": "white",
            "gridwidth": 2,
            "linecolor": "white",
            "showbackground": true,
            "ticks": "",
            "zerolinecolor": "white"
           },
           "yaxis": {
            "backgroundcolor": "#E5ECF6",
            "gridcolor": "white",
            "gridwidth": 2,
            "linecolor": "white",
            "showbackground": true,
            "ticks": "",
            "zerolinecolor": "white"
           },
           "zaxis": {
            "backgroundcolor": "#E5ECF6",
            "gridcolor": "white",
            "gridwidth": 2,
            "linecolor": "white",
            "showbackground": true,
            "ticks": "",
            "zerolinecolor": "white"
           }
          },
          "shapedefaults": {
           "line": {
            "color": "#2a3f5f"
           }
          },
          "ternary": {
           "aaxis": {
            "gridcolor": "white",
            "linecolor": "white",
            "ticks": ""
           },
           "baxis": {
            "gridcolor": "white",
            "linecolor": "white",
            "ticks": ""
           },
           "bgcolor": "#E5ECF6",
           "caxis": {
            "gridcolor": "white",
            "linecolor": "white",
            "ticks": ""
           }
          },
          "title": {
           "x": 0.05
          },
          "xaxis": {
           "automargin": true,
           "gridcolor": "white",
           "linecolor": "white",
           "ticks": "",
           "title": {
            "standoff": 15
           },
           "zerolinecolor": "white",
           "zerolinewidth": 2
          },
          "yaxis": {
           "automargin": true,
           "gridcolor": "white",
           "linecolor": "white",
           "ticks": "",
           "title": {
            "standoff": 15
           },
           "zerolinecolor": "white",
           "zerolinewidth": 2
          }
         }
        },
        "title": {
         "text": "All Current Lap Times"
        },
        "xaxis": {
         "anchor": "y",
         "domain": [
          0,
          1
         ],
         "title": {
          "text": "Lap Time"
         }
        },
        "yaxis": {
         "anchor": "x",
         "domain": [
          0,
          1
         ],
         "title": {
          "text": "Steering Wheel Angle"
         }
        }
       }
      }
     },
     "metadata": {},
     "output_type": "display_data"
    }
   ],
   "source": [
    "\n",
    "filtered_df = track_location_df[track_location_df['Lap Nbr'] == 1]\n",
    "\n",
    "fig = px.line(filtered_df, x='CurrentLapTime', y='SteeringWheelAngle (deg)', color='Lap Nbr',\n",
    "              title='All Current Lap Times',\n",
    "              labels={'CurrentLapTime': 'Lap Time', 'SteeringWheelAngle (deg)': 'Steering Wheel Angle'})\n",
    "\n",
    "\n",
    "# Show the plot\n",
    "fig.show()"
   ]
  },
  {
   "cell_type": "code",
   "execution_count": 145,
   "metadata": {},
   "outputs": [
    {
     "data": {
      "image/png": "[encoded data removed]",
      "text/plain": [
       "<PIL.PngImagePlugin.PngImageFile image mode=RGBA size=650x438>"
      ]
     },
     "execution_count": 145,
     "metadata": {},
     "output_type": "execute_result"
    }
   ],
   "source": [
    "# Load the background image\n",
    "bg_image = Image.open(\"track_photos\\Martinsville_Speedway_track_map.png\")\n",
    "(bg_image)"
   ]
  },
  {
   "cell_type": "code",
   "execution_count": null,
   "metadata": {},
   "outputs": [],
   "source": [
    "## creating a flag to find a turn vs a straight "
   ]
  },
  {
   "cell_type": "code",
   "execution_count": 147,
   "metadata": {},
   "outputs": [
    {
     "data": {
      "text/html": [
       "<div>\n",
       "<style scoped>\n",
       "    .dataframe tbody tr th:only-of-type {\n",
       "        vertical-align: middle;\n",
       "    }\n",
       "\n",
       "    .dataframe tbody tr th {\n",
       "        vertical-align: top;\n",
       "    }\n",
       "\n",
       "    .dataframe thead th {\n",
       "        text-align: right;\n",
       "    }\n",
       "</style>\n",
       "<table border=\"1\" class=\"dataframe\">\n",
       "  <thead>\n",
       "    <tr style=\"text-align: right;\">\n",
       "      <th></th>\n",
       "      <th>TrackName</th>\n",
       "      <th>TrackType</th>\n",
       "      <th>SessionFlag</th>\n",
       "      <th>CarName</th>\n",
       "      <th>RacePosition</th>\n",
       "      <th>Lap Nbr</th>\n",
       "      <th>PaceMode</th>\n",
       "      <th>OnPitRoad</th>\n",
       "      <th>LpDistance</th>\n",
       "      <th>LapDistPrct %</th>\n",
       "      <th>...</th>\n",
       "      <th>LongAccel (m/s)</th>\n",
       "      <th>VertAccel (m/s)</th>\n",
       "      <th>Roll (deg)</th>\n",
       "      <th>RollRate (deg/s)</th>\n",
       "      <th>Yaw (deg)</th>\n",
       "      <th>YawRate (deg/s)</th>\n",
       "      <th>Pitch (deg)</th>\n",
       "      <th>PitchRate (deg/s)</th>\n",
       "      <th>gForces</th>\n",
       "      <th>Track Location</th>\n",
       "    </tr>\n",
       "  </thead>\n",
       "  <tbody>\n",
       "    <tr>\n",
       "      <th>0</th>\n",
       "      <td>Martinsville Speedway</td>\n",
       "      <td>NaN</td>\n",
       "      <td>('Practice',)</td>\n",
       "      <td>NASCAR Chevrolet Camaro ZL1</td>\n",
       "      <td>0</td>\n",
       "      <td>0</td>\n",
       "      <td>Not Pacing</td>\n",
       "      <td>True</td>\n",
       "      <td>760.685652</td>\n",
       "      <td>29.5</td>\n",
       "      <td>...</td>\n",
       "      <td>0.007369</td>\n",
       "      <td>0.998901</td>\n",
       "      <td>2.138</td>\n",
       "      <td>0</td>\n",
       "      <td>-133.832</td>\n",
       "      <td>-1</td>\n",
       "      <td>0.421</td>\n",
       "      <td>-1</td>\n",
       "      <td>0.102002</td>\n",
       "      <td>straight</td>\n",
       "    </tr>\n",
       "    <tr>\n",
       "      <th>1</th>\n",
       "      <td>Martinsville Speedway</td>\n",
       "      <td>NaN</td>\n",
       "      <td>('Practice',)</td>\n",
       "      <td>NASCAR Chevrolet Camaro ZL1</td>\n",
       "      <td>0</td>\n",
       "      <td>0</td>\n",
       "      <td>Not Pacing</td>\n",
       "      <td>True</td>\n",
       "      <td>760.685652</td>\n",
       "      <td>29.5</td>\n",
       "      <td>...</td>\n",
       "      <td>0.007409</td>\n",
       "      <td>0.998957</td>\n",
       "      <td>2.138</td>\n",
       "      <td>-1</td>\n",
       "      <td>-133.832</td>\n",
       "      <td>0</td>\n",
       "      <td>0.421</td>\n",
       "      <td>0</td>\n",
       "      <td>0.102008</td>\n",
       "      <td>straight</td>\n",
       "    </tr>\n",
       "    <tr>\n",
       "      <th>2</th>\n",
       "      <td>Martinsville Speedway</td>\n",
       "      <td>NaN</td>\n",
       "      <td>('Practice',)</td>\n",
       "      <td>NASCAR Chevrolet Camaro ZL1</td>\n",
       "      <td>0</td>\n",
       "      <td>0</td>\n",
       "      <td>Not Pacing</td>\n",
       "      <td>True</td>\n",
       "      <td>760.685652</td>\n",
       "      <td>29.5</td>\n",
       "      <td>...</td>\n",
       "      <td>0.007473</td>\n",
       "      <td>0.999009</td>\n",
       "      <td>2.138</td>\n",
       "      <td>0</td>\n",
       "      <td>-133.832</td>\n",
       "      <td>-1</td>\n",
       "      <td>0.421</td>\n",
       "      <td>-1</td>\n",
       "      <td>0.102013</td>\n",
       "      <td>straight</td>\n",
       "    </tr>\n",
       "    <tr>\n",
       "      <th>3</th>\n",
       "      <td>Martinsville Speedway</td>\n",
       "      <td>NaN</td>\n",
       "      <td>('Practice',)</td>\n",
       "      <td>NASCAR Chevrolet Camaro ZL1</td>\n",
       "      <td>0</td>\n",
       "      <td>0</td>\n",
       "      <td>Not Pacing</td>\n",
       "      <td>True</td>\n",
       "      <td>760.685652</td>\n",
       "      <td>29.5</td>\n",
       "      <td>...</td>\n",
       "      <td>0.007409</td>\n",
       "      <td>0.998892</td>\n",
       "      <td>2.138</td>\n",
       "      <td>0</td>\n",
       "      <td>-133.832</td>\n",
       "      <td>-1</td>\n",
       "      <td>0.421</td>\n",
       "      <td>-1</td>\n",
       "      <td>0.102001</td>\n",
       "      <td>straight</td>\n",
       "    </tr>\n",
       "    <tr>\n",
       "      <th>4</th>\n",
       "      <td>Martinsville Speedway</td>\n",
       "      <td>NaN</td>\n",
       "      <td>('Practice',)</td>\n",
       "      <td>NASCAR Chevrolet Camaro ZL1</td>\n",
       "      <td>0</td>\n",
       "      <td>0</td>\n",
       "      <td>Not Pacing</td>\n",
       "      <td>True</td>\n",
       "      <td>760.685652</td>\n",
       "      <td>29.5</td>\n",
       "      <td>...</td>\n",
       "      <td>0.007273</td>\n",
       "      <td>0.998925</td>\n",
       "      <td>2.137</td>\n",
       "      <td>-1</td>\n",
       "      <td>-133.832</td>\n",
       "      <td>0</td>\n",
       "      <td>0.421</td>\n",
       "      <td>-1</td>\n",
       "      <td>0.102005</td>\n",
       "      <td>straight</td>\n",
       "    </tr>\n",
       "    <tr>\n",
       "      <th>...</th>\n",
       "      <td>...</td>\n",
       "      <td>...</td>\n",
       "      <td>...</td>\n",
       "      <td>...</td>\n",
       "      <td>...</td>\n",
       "      <td>...</td>\n",
       "      <td>...</td>\n",
       "      <td>...</td>\n",
       "      <td>...</td>\n",
       "      <td>...</td>\n",
       "      <td>...</td>\n",
       "      <td>...</td>\n",
       "      <td>...</td>\n",
       "      <td>...</td>\n",
       "      <td>...</td>\n",
       "      <td>...</td>\n",
       "      <td>...</td>\n",
       "      <td>...</td>\n",
       "      <td>...</td>\n",
       "      <td>...</td>\n",
       "      <td>...</td>\n",
       "    </tr>\n",
       "    <tr>\n",
       "      <th>8198</th>\n",
       "      <td>Martinsville Speedway</td>\n",
       "      <td>NaN</td>\n",
       "      <td>('Practice',)</td>\n",
       "      <td>NASCAR Chevrolet Camaro ZL1</td>\n",
       "      <td>1</td>\n",
       "      <td>36</td>\n",
       "      <td>Not Pacing</td>\n",
       "      <td>True</td>\n",
       "      <td>758.060870</td>\n",
       "      <td>29.4</td>\n",
       "      <td>...</td>\n",
       "      <td>0.003488</td>\n",
       "      <td>0.985776</td>\n",
       "      <td>-3.329</td>\n",
       "      <td>0</td>\n",
       "      <td>-131.928</td>\n",
       "      <td>-1</td>\n",
       "      <td>0.311</td>\n",
       "      <td>-1</td>\n",
       "      <td>0.100758</td>\n",
       "      <td>turn</td>\n",
       "    </tr>\n",
       "    <tr>\n",
       "      <th>8199</th>\n",
       "      <td>Martinsville Speedway</td>\n",
       "      <td>NaN</td>\n",
       "      <td>('Practice',)</td>\n",
       "      <td>NASCAR Chevrolet Camaro ZL1</td>\n",
       "      <td>1</td>\n",
       "      <td>36</td>\n",
       "      <td>Not Pacing</td>\n",
       "      <td>True</td>\n",
       "      <td>758.060920</td>\n",
       "      <td>29.4</td>\n",
       "      <td>...</td>\n",
       "      <td>0.007146</td>\n",
       "      <td>1.006052</td>\n",
       "      <td>-3.339</td>\n",
       "      <td>-1</td>\n",
       "      <td>-131.930</td>\n",
       "      <td>0</td>\n",
       "      <td>0.293</td>\n",
       "      <td>0</td>\n",
       "      <td>0.102841</td>\n",
       "      <td>turn</td>\n",
       "    </tr>\n",
       "    <tr>\n",
       "      <th>8200</th>\n",
       "      <td>Martinsville Speedway</td>\n",
       "      <td>NaN</td>\n",
       "      <td>('Practice',)</td>\n",
       "      <td>NASCAR Chevrolet Camaro ZL1</td>\n",
       "      <td>1</td>\n",
       "      <td>36</td>\n",
       "      <td>Not Pacing</td>\n",
       "      <td>True</td>\n",
       "      <td>758.060920</td>\n",
       "      <td>29.4</td>\n",
       "      <td>...</td>\n",
       "      <td>0.004832</td>\n",
       "      <td>0.991701</td>\n",
       "      <td>-3.329</td>\n",
       "      <td>-1</td>\n",
       "      <td>-131.932</td>\n",
       "      <td>-1</td>\n",
       "      <td>0.276</td>\n",
       "      <td>-1</td>\n",
       "      <td>0.101377</td>\n",
       "      <td>turn</td>\n",
       "    </tr>\n",
       "    <tr>\n",
       "      <th>8201</th>\n",
       "      <td>Martinsville Speedway</td>\n",
       "      <td>NaN</td>\n",
       "      <td>('Practice',)</td>\n",
       "      <td>NASCAR Chevrolet Camaro ZL1</td>\n",
       "      <td>1</td>\n",
       "      <td>36</td>\n",
       "      <td>Not Pacing</td>\n",
       "      <td>True</td>\n",
       "      <td>758.060920</td>\n",
       "      <td>29.4</td>\n",
       "      <td>...</td>\n",
       "      <td>0.003864</td>\n",
       "      <td>1.000771</td>\n",
       "      <td>-3.334</td>\n",
       "      <td>0</td>\n",
       "      <td>-131.930</td>\n",
       "      <td>-1</td>\n",
       "      <td>0.296</td>\n",
       "      <td>-1</td>\n",
       "      <td>0.102288</td>\n",
       "      <td>turn</td>\n",
       "    </tr>\n",
       "    <tr>\n",
       "      <th>8202</th>\n",
       "      <td>Martinsville Speedway</td>\n",
       "      <td>NaN</td>\n",
       "      <td>('Practice',)</td>\n",
       "      <td>NASCAR Chevrolet Camaro ZL1</td>\n",
       "      <td>1</td>\n",
       "      <td>36</td>\n",
       "      <td>Not Pacing</td>\n",
       "      <td>True</td>\n",
       "      <td>758.060870</td>\n",
       "      <td>29.4</td>\n",
       "      <td>...</td>\n",
       "      <td>0.004833</td>\n",
       "      <td>0.995969</td>\n",
       "      <td>-3.335</td>\n",
       "      <td>0</td>\n",
       "      <td>-131.929</td>\n",
       "      <td>0</td>\n",
       "      <td>0.294</td>\n",
       "      <td>0</td>\n",
       "      <td>0.101811</td>\n",
       "      <td>turn</td>\n",
       "    </tr>\n",
       "  </tbody>\n",
       "</table>\n",
       "<p>8203 rows × 71 columns</p>\n",
       "</div>"
      ],
      "text/plain": [
       "                  TrackName  TrackType    SessionFlag  \\\n",
       "0     Martinsville Speedway        NaN  ('Practice',)   \n",
       "1     Martinsville Speedway        NaN  ('Practice',)   \n",
       "2     Martinsville Speedway        NaN  ('Practice',)   \n",
       "3     Martinsville Speedway        NaN  ('Practice',)   \n",
       "4     Martinsville Speedway        NaN  ('Practice',)   \n",
       "...                     ...        ...            ...   \n",
       "8198  Martinsville Speedway        NaN  ('Practice',)   \n",
       "8199  Martinsville Speedway        NaN  ('Practice',)   \n",
       "8200  Martinsville Speedway        NaN  ('Practice',)   \n",
       "8201  Martinsville Speedway        NaN  ('Practice',)   \n",
       "8202  Martinsville Speedway        NaN  ('Practice',)   \n",
       "\n",
       "                          CarName  RacePosition  Lap Nbr    PaceMode  \\\n",
       "0     NASCAR Chevrolet Camaro ZL1             0        0  Not Pacing   \n",
       "1     NASCAR Chevrolet Camaro ZL1             0        0  Not Pacing   \n",
       "2     NASCAR Chevrolet Camaro ZL1             0        0  Not Pacing   \n",
       "3     NASCAR Chevrolet Camaro ZL1             0        0  Not Pacing   \n",
       "4     NASCAR Chevrolet Camaro ZL1             0        0  Not Pacing   \n",
       "...                           ...           ...      ...         ...   \n",
       "8198  NASCAR Chevrolet Camaro ZL1             1       36  Not Pacing   \n",
       "8199  NASCAR Chevrolet Camaro ZL1             1       36  Not Pacing   \n",
       "8200  NASCAR Chevrolet Camaro ZL1             1       36  Not Pacing   \n",
       "8201  NASCAR Chevrolet Camaro ZL1             1       36  Not Pacing   \n",
       "8202  NASCAR Chevrolet Camaro ZL1             1       36  Not Pacing   \n",
       "\n",
       "      OnPitRoad  LpDistance  LapDistPrct %  ... LongAccel (m/s)  \\\n",
       "0          True  760.685652           29.5  ...        0.007369   \n",
       "1          True  760.685652           29.5  ...        0.007409   \n",
       "2          True  760.685652           29.5  ...        0.007473   \n",
       "3          True  760.685652           29.5  ...        0.007409   \n",
       "4          True  760.685652           29.5  ...        0.007273   \n",
       "...         ...         ...            ...  ...             ...   \n",
       "8198       True  758.060870           29.4  ...        0.003488   \n",
       "8199       True  758.060920           29.4  ...        0.007146   \n",
       "8200       True  758.060920           29.4  ...        0.004832   \n",
       "8201       True  758.060920           29.4  ...        0.003864   \n",
       "8202       True  758.060870           29.4  ...        0.004833   \n",
       "\n",
       "      VertAccel (m/s)  Roll (deg)  RollRate (deg/s)  Yaw (deg)  \\\n",
       "0            0.998901       2.138                 0   -133.832   \n",
       "1            0.998957       2.138                -1   -133.832   \n",
       "2            0.999009       2.138                 0   -133.832   \n",
       "3            0.998892       2.138                 0   -133.832   \n",
       "4            0.998925       2.137                -1   -133.832   \n",
       "...               ...         ...               ...        ...   \n",
       "8198         0.985776      -3.329                 0   -131.928   \n",
       "8199         1.006052      -3.339                -1   -131.930   \n",
       "8200         0.991701      -3.329                -1   -131.932   \n",
       "8201         1.000771      -3.334                 0   -131.930   \n",
       "8202         0.995969      -3.335                 0   -131.929   \n",
       "\n",
       "     YawRate (deg/s)  Pitch (deg) PitchRate (deg/s)   gForces  Track Location  \n",
       "0                 -1        0.421                -1  0.102002        straight  \n",
       "1                  0        0.421                 0  0.102008        straight  \n",
       "2                 -1        0.421                -1  0.102013        straight  \n",
       "3                 -1        0.421                -1  0.102001        straight  \n",
       "4                  0        0.421                -1  0.102005        straight  \n",
       "...              ...          ...               ...       ...             ...  \n",
       "8198              -1        0.311                -1  0.100758            turn  \n",
       "8199               0        0.293                 0  0.102841            turn  \n",
       "8200              -1        0.276                -1  0.101377            turn  \n",
       "8201              -1        0.296                -1  0.102288            turn  \n",
       "8202               0        0.294                 0  0.101811            turn  \n",
       "\n",
       "[8203 rows x 71 columns]"
      ]
     },
     "metadata": {},
     "output_type": "display_data"
    }
   ],
   "source": [
    " # Example threshold value\n",
    "df['Track Location'] = df['SteeringWheelAngle (deg)'].apply(lambda value: 'turn' if value < -5 else 'straight')\n",
    "\n",
    "display(df)"
   ]
  },
  {
   "cell_type": "code",
   "execution_count": null,
   "metadata": {},
   "outputs": [],
   "source": []
  }
 ],
 "metadata": {
  "kernelspec": {
   "display_name": "Python 3",
   "language": "python",
   "name": "python3"
  },
  "language_info": {
   "codemirror_mode": {
    "name": "ipython",
    "version": 3
   },
   "file_extension": ".py",
   "mimetype": "text/x-python",
   "name": "python",
   "nbconvert_exporter": "python",
   "pygments_lexer": "ipython3",
   "version": "3.10.0"
  }
 },
 "nbformat": 4,
 "nbformat_minor": 2
}
